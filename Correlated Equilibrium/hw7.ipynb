{
  "nbformat": 4,
  "nbformat_minor": 0,
  "metadata": {
    "colab": {
      "provenance": []
    },
    "kernelspec": {
      "name": "python3",
      "display_name": "Python 3"
    },
    "language_info": {
      "name": "python"
    }
  },
  "cells": [
    {
      "cell_type": "code",
      "source": [
        "import numpy as np\n",
        "from scipy.optimize import linprog"
      ],
      "metadata": {
        "id": "H-SUuW6nUDFh"
      },
      "execution_count": 17,
      "outputs": []
    },
    {
      "cell_type": "code",
      "execution_count": 3,
      "metadata": {
        "id": "x1gCbp_iS6l4"
      },
      "outputs": [],
      "source": [
        "\n",
        "u1 = np.array([[2,1],[1,2]])\n",
        "u2 = np.array([[1,2],[5,1]])"
      ]
    },
    {
      "cell_type": "code",
      "source": [
        "def game22(u1,u2):\n",
        "\n",
        "  print(u1)\n",
        "  alpha=(u1+u2).flatten()\n",
        "\n",
        "  beta = -np.concatenate((u1[0]-u1[1],-u1[0]+u1[1]))\n",
        "  gamma = -np.array((u2[0][0]-u2[0][1],u2[0][1]-u2[0][0],u2[1][0]-u2[1][1],u2[1][1]-u2[1][0]))\n",
        "  print(gamma)\n",
        "  c = -1*alpha\n",
        "  A_in=[[beta[0],beta[1],0,0],[0,0,beta[2],beta[3]],[gamma[0],0,gamma[2],0],[0,gamma[1],0,gamma[3]]]\n",
        "\n",
        "  B_in = np.zeros(len(c))\n",
        "  A_e=np.array([np.ones(len(c))])\n",
        "  B_e=1\n",
        "\n",
        "  x0_bounds = (0,None)\n",
        "  x1_bounds = (0,None)\n",
        "  x2_bounds = (0,None)\n",
        "  x3_bounds = (0,None)\n",
        "\n",
        "  res = linprog(c,A_ub=A_in,b_ub=B_in,A_eq=A_e,b_eq=B_e,bounds=(x0_bounds,x0_bounds,x0_bounds,x0_bounds),options={\"disp\":True})\n",
        "\n",
        "  print(res)"
      ],
      "metadata": {
        "id": "y8Lv-6oBUAFh"
      },
      "execution_count": 50,
      "outputs": []
    },
    {
      "cell_type": "code",
      "source": [
        "u1 = np.array([[2,1],[1,2]])\n",
        "u2 = np.array([[1,2],[5,1]])\n",
        "game22(u1,u2)"
      ],
      "metadata": {
        "colab": {
          "base_uri": "https://localhost:8080/"
        },
        "id": "9rWz9GT4UEIE",
        "outputId": "340603ea-eb18-4d7d-ab34-24ffd8d9b66e"
      },
      "execution_count": 51,
      "outputs": [
        {
          "output_type": "stream",
          "name": "stdout",
          "text": [
            "[[2 1]\n",
            " [1 2]]\n",
            "[ 1 -1 -4  4]\n",
            "Primal Feasibility  Dual Feasibility    Duality Gap         Step             Path Parameter      Objective          \n",
            "1.0                 1.0                 1.0                 -                1.0                 -15.0               \n",
            "0.2470575868614     0.2470575868614     0.2470575868614     0.7626703512929  0.2470575868614     -7.499056424899     \n",
            "0.04863204704395    0.04863204704395    0.04863204704395    0.8264712364673  0.04863204704395    -3.952477848363     \n",
            "0.001760080581663   0.001760080581861   0.001760080581861   0.9662219902259  0.001760080580982   -3.319106684702     \n",
            "1.638658000282e-07  1.638657588316e-07  1.638657589937e-07  0.9999090882796  1.638659056265e-07  -3.300001772309     \n",
            "8.215431271099e-12  8.2125703056e-12    8.212541757757e-12  0.9999498825414  8.225563695384e-12  -3.300000000089     \n",
            "Optimization terminated successfully.\n",
            "         Current function value: -3.300000   \n",
            "         Iterations: 5\n",
            "     con: array([-1.99498196e-11])\n",
            "     fun: -3.3000000000888905\n",
            " message: 'Optimization terminated successfully.'\n",
            "     nit: 5\n",
            "   slack: array([ 3.98225897e-12, -5.92331739e-12,  3.34744454e-11, -1.37634348e-11])\n",
            "  status: 0\n",
            " success: True\n",
            "       x: array([0.4, 0.4, 0.1, 0.1])\n"
          ]
        }
      ]
    },
    {
      "cell_type": "markdown",
      "source": [
        "Q2 game 1 solution: [0.4,0.4,0.1,0.1]"
      ],
      "metadata": {
        "id": "tP940FlJ71oD"
      }
    },
    {
      "cell_type": "markdown",
      "source": [
        "Final reward: 3.3"
      ],
      "metadata": {
        "id": "Jg2DGZdc9w7i"
      }
    },
    {
      "cell_type": "code",
      "source": [
        "u1 = np.array([[3,6],[2,7]])\n",
        "u2 = np.array([[7,6],[2,3]])\n",
        "game22(u1,u2)"
      ],
      "metadata": {
        "colab": {
          "base_uri": "https://localhost:8080/"
        },
        "id": "8-AgJl5GUaoO",
        "outputId": "76bac0a7-f559-48c2-91c0-cef601a693ba"
      },
      "execution_count": 52,
      "outputs": [
        {
          "output_type": "stream",
          "name": "stdout",
          "text": [
            "[[3 6]\n",
            " [2 7]]\n",
            "[-1  1  1 -1]\n",
            "Primal Feasibility  Dual Feasibility    Duality Gap         Step             Path Parameter      Objective          \n",
            "1.0                 1.0                 1.0                 -                1.0                 -36.0               \n",
            "0.2687172985009     0.2687172985009     0.2687172985009     0.7381826685089  0.2687172985009     -35.03551208921     \n",
            "0.08966205897697    0.08966205897697    0.08966205897697    0.6973930653663  0.08966205897697    -14.2702037624      \n",
            "0.008560889539167   0.008560889538857   0.008560889538857   0.9174078500654  0.008560889539856   -11.00681962136     \n",
            "3.763481925658e-06  3.763481924282e-06  3.763481924273e-06  0.9999121071037  3.763481929358e-06  -10.66679980447     \n",
            "1.881759092998e-10  1.881757355089e-10  1.881757733762e-10  0.9999499995546  1.881749179615e-10  -10.66666667332     \n",
            "Optimization terminated successfully.\n",
            "         Current function value: -10.666667  \n",
            "         Iterations: 5\n",
            "     con: array([-6.69068356e-10])\n",
            "     fun: -10.66666667332356\n",
            " message: 'Optimization terminated successfully.'\n",
            "     nit: 5\n",
            "   slack: array([1.22789612e-10, 3.33333334e-01, 3.33333334e-01, 1.22788668e-10])\n",
            "  status: 0\n",
            " success: True\n",
            "       x: array([3.33333334e-01, 3.33333333e-01, 4.74173892e-11, 3.33333334e-01])\n"
          ]
        }
      ]
    },
    {
      "cell_type": "markdown",
      "source": [
        "Q2 game 2 solution: [3.33333334e-01, 3.33333333e-01, 4.74173892e-11, 3.33333334e-01]"
      ],
      "metadata": {
        "id": "6g1M91iz8AEx"
      }
    },
    {
      "cell_type": "markdown",
      "source": [
        "Final reward: 10.6666"
      ],
      "metadata": {
        "id": "0Cn0hPvm9udE"
      }
    },
    {
      "cell_type": "code",
      "source": [
        "u1 = np.array([[7,6],[2,3]])\n",
        "u2 = np.array([[3,6],[2,7]])\n",
        "game22(u1,u2)"
      ],
      "metadata": {
        "colab": {
          "base_uri": "https://localhost:8080/"
        },
        "id": "eDhd86wbUwe1",
        "outputId": "9bcca81b-1f41-476d-a846-6e0c4544175a"
      },
      "execution_count": 93,
      "outputs": [
        {
          "output_type": "stream",
          "name": "stdout",
          "text": [
            "[[7 6]\n",
            " [2 3]]\n",
            "[ 3 -3  5 -5]\n",
            "Primal Feasibility  Dual Feasibility    Duality Gap         Step             Path Parameter      Objective          \n",
            "1.0                 1.0                 1.0                 -                1.0                 -36.0               \n",
            "0.1989321097656     0.1989321097656     0.1989321097656     0.8045347480697  0.1989321097656     -34.62419765843     \n",
            "0.01475506009528    0.01475506009528    0.01475506009528    0.9639844171202  0.01475506009528    -13.68261206843     \n",
            "1.29852215155e-05   1.298522151548e-05  1.29852215155e-05   0.9993054699716  1.29852215155e-05   -12.00100022549     \n",
            "6.492690792451e-10  6.492691215669e-10  6.492691083184e-10  0.9999499993804  6.492690580914e-10  -12.00000005001     \n",
            "Optimization terminated successfully.\n",
            "         Current function value: -12.000000  \n",
            "         Iterations: 4\n",
            "     con: array([-6.45922715e-09])\n",
            "     fun: -12.000000050013469\n",
            " message: 'Optimization terminated successfully.'\n",
            "     nit: 4\n",
            "   slack: array([ 3.00000001e+00, -1.85710753e-08, -1.85710753e-08,  3.00000001e+00])\n",
            "  status: 0\n",
            " success: True\n",
            "       x: array([2.77058254e-09, 9.99999999e-01, 2.05186553e-09, 2.77058254e-09])\n"
          ]
        }
      ]
    },
    {
      "cell_type": "markdown",
      "source": [
        "Q2 game 3 solution: [2.77058254e-09, 9.99999999e-01, 2.05186553e-09, 2.77058254e-09]"
      ],
      "metadata": {
        "id": "uCZZdztb8JAN"
      }
    },
    {
      "cell_type": "markdown",
      "source": [
        "Final reward: 12.000000050013469\n"
      ],
      "metadata": {
        "id": "uCtSKNQP9sit"
      }
    },
    {
      "cell_type": "code",
      "source": [
        "def game23(u1,u2):\n",
        "\n",
        "  print(u1)\n",
        "  alpha=(u1+u2).flatten()\n",
        "\n",
        "  beta = -np.concatenate((u1[0]-u1[1],-u1[0]+u1[1]))\n",
        "  gamma = -np.array([[u2[0][0]-u2[0][1],0,0,u2[1][0]-u2[1][1],0,0],\n",
        "                     [u2[0][0]-u2[0][2],0,0,u2[1][0]-u2[1][2],0,0],\n",
        "                     [0,u2[0][1]-u2[0][0],0,0,u2[1][1]-u2[1][0],0],\n",
        "                     [0,u2[0][1]-u2[0][2],0,0,u2[1][1]-u2[1][2],0],\n",
        "                     [0,0,u2[0][2]-u2[0][0],0,0,u2[1][2]-u2[1][0]],\n",
        "                     [0,0,u2[0][2]-u2[0][1],0,0,u2[1][2]-u2[1][1]]\n",
        "                      ])\n",
        "      \n",
        "      \n",
        "  print(gamma)\n",
        "  c = -1*alpha\n",
        "  \n",
        "  A_in=np.concatenate((np.array([[beta[0],beta[1],beta[2],0,0,0],[0,0,0,beta[3],beta[4],beta[5]]]),gamma))\n",
        "  print(A_in)\n",
        "  B_in = np.zeros(len(A_in))\n",
        "  A_e=np.array([np.ones(len(c))])\n",
        "  B_e=1\n",
        "\n",
        "  x0_bounds = (0,None)\n",
        "  x1_bounds = (0,None)\n",
        "  x2_bounds = (0,None)\n",
        "  x3_bounds = (0,None)\n",
        "  x4_bounds = (0,None)\n",
        "  x5_bounds = (0,None)\n",
        "\n",
        "  res = linprog(c,A_ub=A_in,b_ub=B_in,A_eq=A_e,b_eq=B_e,bounds=(x0_bounds,x1_bounds,x2_bounds,x3_bounds,x4_bounds,x5_bounds),options={\"disp\":True})\n",
        "\n",
        "  print(res)"
      ],
      "metadata": {
        "id": "IP_6wrfOXBAk"
      },
      "execution_count": 94,
      "outputs": []
    },
    {
      "cell_type": "code",
      "source": [
        "U1=np.array([[0,5,8],[2,6,5]])\n",
        "U2=np.array([[4,6,7],[9,5,1]])\n",
        "print(game23(U1,U2))"
      ],
      "metadata": {
        "colab": {
          "base_uri": "https://localhost:8080/"
        },
        "id": "7ofideDwrKQr",
        "outputId": "b8639cfc-f3b1-4962-b447-43b2742a773c"
      },
      "execution_count": 95,
      "outputs": [
        {
          "output_type": "stream",
          "name": "stdout",
          "text": [
            "[[0 5 8]\n",
            " [2 6 5]]\n",
            "[[ 2  0  0 -4  0  0]\n",
            " [ 3  0  0 -8  0  0]\n",
            " [ 0 -2  0  0  4  0]\n",
            " [ 0  1  0  0 -4  0]\n",
            " [ 0  0 -3  0  0  8]\n",
            " [ 0  0 -1  0  0  4]]\n",
            "[[ 2  1 -3  0  0  0]\n",
            " [ 0  0  0 -2 -1  3]\n",
            " [ 2  0  0 -4  0  0]\n",
            " [ 3  0  0 -8  0  0]\n",
            " [ 0 -2  0  0  4  0]\n",
            " [ 0  1  0  0 -4  0]\n",
            " [ 0  0 -3  0  0  8]\n",
            " [ 0  0 -1  0  0  4]]\n",
            "Primal Feasibility  Dual Feasibility    Duality Gap         Step             Path Parameter      Objective          \n",
            "1.0                 1.0                 1.0                 -                1.0                 -58.0               \n",
            "0.1817177707243     0.1817177707243     0.1817177707243     0.822077067551   0.1817177707243     -90.66477947571     \n",
            "0.0842142261264     0.0842142261264     0.0842142261264     0.5563525095259  0.0842142261264     -33.54348748875     \n",
            "0.007392027825124   0.007392027825124   0.007392027825124   0.9314407386832  0.007392027825124   -15.86359726942     \n",
            "4.246995490861e-06  4.246995490933e-06  4.246995490928e-06  0.9998666000053  4.246995490893e-06  -15.00056431237     \n",
            "2.123526030298e-10  2.123523470239e-10  2.123523189649e-10  0.9999499993978  2.123520604753e-10  -15.00000002822     \n",
            "Optimization terminated successfully.\n",
            "         Current function value: -15.000000  \n",
            "         Iterations: 5\n",
            "     con: array([-2.9787961e-09])\n",
            "     fun: -15.000000028215803\n",
            " message: 'Optimization terminated successfully.'\n",
            "     nit: 5\n",
            "   slack: array([ 3.00000000e+00, -5.88275900e-11,  2.27593363e-09,  4.80322776e-09,\n",
            "       -9.78043917e-10,  1.62690724e-09,  3.00000000e+00,  9.99999997e-01])\n",
            "  status: 0\n",
            " success: True\n",
            "       x: array([2.51360500e-10, 6.48863322e-10, 1.00000000e+00, 6.94663658e-10,\n",
            "       5.68942640e-10, 6.72365849e-10])\n",
            "None\n"
          ]
        }
      ]
    },
    {
      "cell_type": "markdown",
      "source": [
        "Q3 game 1 solution: [2.51360500e-10, 6.48863322e-10, 1.00000000e+00;\n",
        " 6.94663658e-10,\n",
        "       5.68942640e-10, 6.72365849e-10]"
      ],
      "metadata": {
        "id": "-xDylEIs8Yr6"
      }
    },
    {
      "cell_type": "markdown",
      "source": [
        "Final reward: 15.000000028215803"
      ],
      "metadata": {
        "id": "km0UqWt39pVO"
      }
    },
    {
      "cell_type": "code",
      "source": [
        "def game_variable(U1,U2):\n",
        "  n=len(U1)\n",
        "  m=len(U1[0])\n",
        "\n",
        "  A_in=np.zeros((n*(n-1)+m*(m-1),n*m))\n",
        "\n",
        "  val = 0\n",
        "\n",
        "  for i in range(n):\n",
        "    for k in range(n):\n",
        "      if i!=k:\n",
        "        for j in range(m):\n",
        "          A_in[val][i*m+j]=-U1[i][j]+U1[k][j]\n",
        "        val+=1\n",
        "\n",
        "  for j in range(m):\n",
        "    for l in range(m):\n",
        "      if j!=l:\n",
        "        for j in range(n):\n",
        "          A_in[val][i*m+j]=-U2[i][j]+U2[i][l]\n",
        "        val+=1\n",
        "\n",
        "  flat = -1*(U1+U2).flatten()\n",
        "  print(flat)\n",
        "  print(\"a_in\",A_in)\n",
        "\n",
        "  B_in=np.zeros(len(A_in))\n",
        "  A_e=np.array([np.ones(len(flat))])\n",
        "\n",
        "  B_e=1\n",
        "  flat = -1*(U1+U2).flatten()\n",
        "  bounds=[]\n",
        "\n",
        "  for count in range(n*m):\n",
        "    bounds.append((0,None))\n",
        "\n",
        "  res = linprog(flat,A_ub=A_in,b_ub=B_in,A_eq=A_e,b_eq=B_e,bounds=bounds,options={\"disp\":True})\n",
        "\n",
        "  print(res)"
      ],
      "metadata": {
        "id": "UAgPf1ADrolF"
      },
      "execution_count": 91,
      "outputs": []
    },
    {
      "cell_type": "code",
      "source": [
        "U1=np.array([[0,5,4],[4,0,5],[5,4,0]])\n",
        "U2=np.array([[0,4,5],[5,0,4],[4,5,0]])\n",
        "\n",
        "\n",
        "game_variable(U1,U2)"
      ],
      "metadata": {
        "colab": {
          "base_uri": "https://localhost:8080/"
        },
        "id": "9hcSZCjD3UWC",
        "outputId": "e9d75a9f-32aa-4fca-be3d-893287b75028"
      },
      "execution_count": 92,
      "outputs": [
        {
          "output_type": "stream",
          "name": "stdout",
          "text": [
            "[ 0 -9 -9 -9  0 -9 -9 -9  0]\n",
            "a_in [[ 4. -5.  1.  0.  0.  0.  0.  0.  0.]\n",
            " [ 5. -1. -4.  0.  0.  0.  0.  0.  0.]\n",
            " [ 0.  0.  0. -4.  5. -1.  0.  0.  0.]\n",
            " [ 0.  0.  0.  1.  4. -5.  0.  0.  0.]\n",
            " [ 0.  0.  0.  0.  0.  0. -5.  1.  4.]\n",
            " [ 0.  0.  0.  0.  0.  0. -1. -4.  5.]\n",
            " [ 0.  0.  0.  0.  0.  0.  1.  0.  5.]\n",
            " [ 0.  0.  0.  0.  0.  0.  0. -1.  4.]\n",
            " [ 0.  0.  0.  0.  0.  0.  1.  0.  5.]\n",
            " [ 0.  0.  0.  0.  0.  0.  0. -1.  4.]\n",
            " [ 0.  0.  0.  0.  0.  0.  1.  0.  5.]\n",
            " [ 0.  0.  0.  0.  0.  0.  0.  0.  0.]]\n",
            "Primal Feasibility  Dual Feasibility    Duality Gap         Step             Path Parameter      Objective          \n",
            "1.0                 1.0                 1.0                 -                1.0                 -54.0               \n",
            "0.1715631761739     0.1715631761739     0.1715631761739     0.8380594128471  0.1715631761739     -91.6990553467      \n",
            "0.05024766845025    0.05024766845025    0.05024766845025    0.7567155632766  0.05024766845025    -33.10531748519     \n",
            "0.007204052571699   0.007204052571699   0.007204052571699   0.8961756976651  0.007204052571699   -10.02638694871     \n",
            "0.0007746623141103  0.0007746623141216  0.0007746623141216  0.8976423287123  0.0007746623140647  -9.110968629088     \n",
            "8.523256327125e-07  8.52325632687e-07   8.523256327135e-07  0.9991101409425  8.523256327478e-07  -9.000115335396     \n",
            "4.26165706627e-11   4.261656949507e-11  4.261655179693e-11  0.9999499996698  4.261658758181e-11  -9.000000005767     \n",
            "Optimization terminated successfully.\n",
            "         Current function value: -9.000000   \n",
            "         Iterations: 6\n",
            "     con: array([-8.91706708e-10])\n",
            "     fun: -9.000000005766802\n",
            " message: 'Optimization terminated successfully.'\n",
            "     nit: 6\n",
            "   slack: array([ 1.22266603e+00,  1.13866698e+00,  1.13866698e+00,  1.22266603e+00,\n",
            "        3.21622339e-11,  4.43808951e-10, -2.01188347e-10,  1.71730391e-11,\n",
            "       -2.01188347e-10,  1.71730391e-11, -2.01188347e-10,  0.00000000e+00])\n",
            "  status: 0\n",
            " success: True\n",
            "       x: array([1.10981512e-10, 2.87111006e-01, 2.12888995e-01, 2.12888995e-01,\n",
            "       1.10981512e-10, 2.87111006e-01, 5.62479739e-11, 1.33125337e-10,\n",
            "       2.89880746e-11])\n"
          ]
        }
      ]
    },
    {
      "cell_type": "markdown",
      "source": [
        "Q3 game 1 solution:[1.10981512e-10, 2.87111006e-01, 2.12888995e-01, 2.12888995e-01,\n",
        "       1.10981512e-10, 2.87111006e-01, 5.62479739e-11, 1.33125337e-10,\n",
        "       2.89880746e-11]"
      ],
      "metadata": {
        "id": "AyPgx-2g8iXt"
      }
    },
    {
      "cell_type": "markdown",
      "source": [
        "Final reward: 9.000000005766802"
      ],
      "metadata": {
        "id": "6SwE_58o9QKG"
      }
    },
    {
      "cell_type": "code",
      "source": [],
      "metadata": {
        "id": "gPzm8xs79Lz9"
      },
      "execution_count": null,
      "outputs": []
    }
  ]
}