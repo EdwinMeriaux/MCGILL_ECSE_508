{
  "nbformat": 4,
  "nbformat_minor": 0,
  "metadata": {
    "colab": {
      "provenance": []
    },
    "kernelspec": {
      "name": "python3",
      "display_name": "Python 3"
    },
    "language_info": {
      "name": "python"
    }
  },
  "cells": [
    {
      "cell_type": "code",
      "source": [
        "import random"
      ],
      "metadata": {
        "id": "j7h_Ict9aI-J"
      },
      "execution_count": 1,
      "outputs": []
    },
    {
      "cell_type": "code",
      "execution_count": 9,
      "metadata": {
        "id": "uZGUhtdsZ-cO"
      },
      "outputs": [],
      "source": [
        "def bestResponse_intertia(M1, M2, a1, a2, N, P):\n",
        "  A1 = a1\n",
        "  A2 = a2\n",
        "\n",
        "  itteration = 0\n",
        "  current_R = A1[-1]\n",
        "  current_C = A2[-1]\n",
        "\n",
        "  current_C_U = M2[current_R][current_C]\n",
        "  current_R_U = M1[current_R][current_C]\n",
        "\n",
        "  while itteration <= N:\n",
        "      tmpc = current_C\n",
        "      tmpr = current_R\n",
        "      \n",
        "      if current_C == 1:\n",
        "        next_C = 0\n",
        "      else:\n",
        "        next_C = 1\n",
        "\n",
        "      if current_R == 1:\n",
        "        next_R = 0\n",
        "      else:\n",
        "        next_R = 1\n",
        "\n",
        "      random_r = random.randint(0,100)\n",
        "      random_c = random.randint(0,100)\n",
        "      if M1[next_R][current_C] > current_R_U and random_r > P:\n",
        "        tmpr = next_R\n",
        "      else:\n",
        "        tmpr = current_R\n",
        "      if M2[current_R][next_C] > current_C_U and random_c > P:\n",
        "        tmpc = next_C\n",
        "      else:\n",
        "        tmpc = current_C\n",
        "      A1.append(tmpr)\n",
        "      A2.append(tmpc)\n",
        "      current_R = tmpr\n",
        "      current_C = tmpc\n",
        "\n",
        "      current_C_U = M2[tmpr][tmpc]\n",
        "      current_R_U = M1[tmpr][tmpc]\n",
        "\n",
        "      itteration += 1\n",
        "\n",
        "\n",
        "  return A1, A2\n"
      ]
    },
    {
      "cell_type": "markdown",
      "source": [
        "## Part A"
      ],
      "metadata": {
        "id": "_2VAA8WSazsC"
      }
    },
    {
      "cell_type": "code",
      "source": [
        "M1 = [[2,1],[1,2]]\n",
        "M2 = [[1,2],[5,1]]\n",
        "(A1,A2) = bestResponse_intertia(M1, M2, [0], [1], 20,50)\n",
        "print(A1,A2)"
      ],
      "metadata": {
        "colab": {
          "base_uri": "https://localhost:8080/"
        },
        "id": "RhTPjRzpa1Yi",
        "outputId": "7a384943-39a9-4b39-f0e5-44d124f855fb"
      },
      "execution_count": 11,
      "outputs": [
        {
          "output_type": "stream",
          "name": "stdout",
          "text": [
            "[0, 0, 1, 1, 1, 1, 1, 0, 0, 1, 1, 0, 0, 1, 1, 0, 0, 0, 0, 0, 0, 1] [1, 1, 1, 1, 0, 0, 0, 0, 1, 1, 0, 0, 1, 1, 0, 0, 0, 0, 1, 1, 1, 1]\n"
          ]
        }
      ]
    },
    {
      "cell_type": "markdown",
      "source": [
        "## Part B"
      ],
      "metadata": {
        "id": "GEVC65CBawQ1"
      }
    },
    {
      "cell_type": "code",
      "source": [
        "M1 = [[2,0],[0,1]]\n",
        "M2 = [[1,0],[0,2]]\n",
        "(A1,A2) = bestResponse_intertia(M1, M2, [0], [1], 20,0)\n",
        "print(A1,A2)"
      ],
      "metadata": {
        "colab": {
          "base_uri": "https://localhost:8080/"
        },
        "id": "9AJgqHyDaH0i",
        "outputId": "2e4084d7-ff1a-4d02-ae2b-661367853756"
      },
      "execution_count": 13,
      "outputs": [
        {
          "output_type": "stream",
          "name": "stdout",
          "text": [
            "[0, 1, 0, 1, 0, 1, 0, 1, 0, 1, 0, 1, 0, 1, 0, 1, 0, 1, 0, 1, 0, 1] [1, 0, 1, 0, 1, 0, 1, 0, 1, 0, 1, 0, 1, 0, 1, 0, 1, 0, 1, 0, 1, 0]\n"
          ]
        }
      ]
    },
    {
      "cell_type": "markdown",
      "source": [
        "## Part C"
      ],
      "metadata": {
        "id": "YlKewTuHbTSS"
      }
    },
    {
      "cell_type": "code",
      "source": [
        "M1 = [[2,0],[0,1]]\n",
        "M2 = [[1,0],[0,2]]\n",
        "(A1,A2) = bestResponse_intertia(M1, M2, [0], [1], 20,1)\n",
        "print(A1,A2)"
      ],
      "metadata": {
        "colab": {
          "base_uri": "https://localhost:8080/"
        },
        "id": "D-73ZVDUaNIg",
        "outputId": "2820897c-ed4d-47bf-c265-a812a8fddde2"
      },
      "execution_count": 19,
      "outputs": [
        {
          "output_type": "stream",
          "name": "stdout",
          "text": [
            "[0, 1, 0, 1, 0, 1, 0, 1, 0, 1, 0, 1, 0, 1, 0, 1, 1, 1, 1, 1, 1, 1] [1, 0, 1, 0, 1, 0, 1, 0, 1, 0, 1, 0, 1, 0, 1, 0, 1, 1, 1, 1, 1, 1]\n"
          ]
        }
      ]
    },
    {
      "cell_type": "markdown",
      "source": [
        "Effectively speaking any value for the damping works if itteration goes to inifinity evenutally there will be convergence. But in this case with 20 itterations you need at least a P = 2.5% for there to be any chance of convergence (since both players have an independint P = 2.5% that means there should be a convergence (in reality a value slightly higher would be better to take into account the case where both don't chanage (this probability is 2.5%*2.5%)))"
      ],
      "metadata": {
        "id": "UHZx3gy9bbGf"
      }
    },
    {
      "cell_type": "markdown",
      "source": [
        "## Part D"
      ],
      "metadata": {
        "id": "Ty5UuV1xcgjC"
      }
    },
    {
      "cell_type": "markdown",
      "source": [
        "question 1"
      ],
      "metadata": {
        "id": "xPQYpb2Ycqeb"
      }
    },
    {
      "cell_type": "code",
      "source": [
        "M1 = [[2,1],[1,2]]\n",
        "M2 = [[1,2],[5,1]]\n",
        "(A1,A2) = bestResponse_intertia(M1, M2, [0], [1], 20,50)\n",
        "print(A1,A2)"
      ],
      "metadata": {
        "colab": {
          "base_uri": "https://localhost:8080/"
        },
        "id": "JNWe2RywbVW7",
        "outputId": "f62e48f4-3228-4e07-8af8-f3ade6c8060f"
      },
      "execution_count": 20,
      "outputs": [
        {
          "output_type": "stream",
          "name": "stdout",
          "text": [
            "[0, 0, 1, 1, 1, 0, 0, 0, 0, 0, 0, 0, 0, 1, 1, 1, 1, 1, 1, 0, 0, 0] [1, 1, 1, 0, 0, 0, 0, 0, 0, 0, 0, 0, 1, 1, 1, 0, 0, 0, 0, 0, 0, 0]\n"
          ]
        }
      ]
    },
    {
      "cell_type": "markdown",
      "source": [
        "question 2"
      ],
      "metadata": {
        "id": "XQCvK2pzcrrD"
      }
    },
    {
      "cell_type": "code",
      "source": [
        "M1 = [[3,6],[2,7]]\n",
        "M2 = [[7,6],[2,3]]\n",
        "(A1,A2) = bestResponse_intertia(M1, M2, [0], [1], 20,1)\n",
        "print(A1,A2)"
      ],
      "metadata": {
        "colab": {
          "base_uri": "https://localhost:8080/"
        },
        "id": "0K1wZojtcvTE",
        "outputId": "2537dfda-6d83-4135-bbc6-35b04d470fcf"
      },
      "execution_count": 25,
      "outputs": [
        {
          "output_type": "stream",
          "name": "stdout",
          "text": [
            "[0, 1, 0, 1, 0, 1, 0, 1, 0, 1, 0, 1, 0, 1, 0, 1, 0, 1, 0, 1, 0, 1] [1, 0, 1, 0, 1, 0, 1, 0, 1, 0, 1, 0, 1, 0, 1, 0, 1, 0, 1, 0, 1, 0]\n"
          ]
        }
      ]
    },
    {
      "cell_type": "markdown",
      "source": [
        "question 3"
      ],
      "metadata": {
        "id": "ntcsnW4UcsrZ"
      }
    },
    {
      "cell_type": "code",
      "source": [
        "M2 = [[3,6],[2,7]]\n",
        "M1 = [[7,6],[2,3]]\n",
        "(A1,A2) = bestResponse_intertia(M1, M2, [0], [1], 20,50)\n",
        "print(A1,A2)"
      ],
      "metadata": {
        "colab": {
          "base_uri": "https://localhost:8080/"
        },
        "id": "mhqoJpCucsPN",
        "outputId": "4a8fa22b-091e-4bd8-df3c-e6358d7bd08b"
      },
      "execution_count": 22,
      "outputs": [
        {
          "output_type": "stream",
          "name": "stdout",
          "text": [
            "[0, 0, 0, 0, 0, 0, 0, 0, 0, 0, 0, 0, 0, 0, 0, 0, 0, 0, 0, 0, 0, 0] [1, 1, 1, 1, 1, 1, 1, 1, 1, 1, 1, 1, 1, 1, 1, 1, 1, 1, 1, 1, 1, 1]\n"
          ]
        }
      ]
    },
    {
      "cell_type": "code",
      "source": [],
      "metadata": {
        "id": "DnPZhUn-dCCG"
      },
      "execution_count": null,
      "outputs": []
    }
  ]
}