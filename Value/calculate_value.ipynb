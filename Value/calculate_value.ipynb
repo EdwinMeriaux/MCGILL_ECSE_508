{
 "cells": [
  {
   "cell_type": "markdown",
   "metadata": {},
   "source": [
    "### Import package"
   ]
  },
  {
   "cell_type": "code",
   "execution_count": 19,
   "metadata": {},
   "outputs": [
    {
     "name": "stdout",
     "output_type": "stream",
     "text": [
      "Requirement already satisfied: pulp in c:\\users\\15084\\anaconda3\\lib\\site-packages (2.7.0)\n"
     ]
    }
   ],
   "source": [
    "!pip install pulp"
   ]
  },
  {
   "cell_type": "code",
   "execution_count": 20,
   "metadata": {},
   "outputs": [],
   "source": [
    "from scipy.optimize import linprog\n",
    "import numpy as np\n",
    "from pulp import *"
   ]
  },
  {
   "cell_type": "markdown",
   "metadata": {},
   "source": [
    "minimizer (linear program $\\beta$)"
   ]
  },
  {
   "cell_type": "code",
   "execution_count": 21,
   "metadata": {},
   "outputs": [
    {
     "name": "stdout",
     "output_type": "stream",
     "text": [
      "the value of the game: 0.28571429\n",
      "q_1 = 0.0\n",
      "q_2 = 0.57142857\n",
      "q_3 = 0.42857143\n"
     ]
    }
   ],
   "source": [
    "#initiate the state of the game for minimize\n",
    "game_a = [\n",
    "    [3,-1,2],\n",
    "    [1,2,-2]]\n",
    "\n",
    "(i,j) = np.shape(game_a) #get size of the game\n",
    "\n",
    "#initiate variables \n",
    "q1 = LpVariable(\"q1\",0,None)\n",
    "q2 = LpVariable(\"q2\",0,None)\n",
    "q3 = LpVariable(\"q3\",0,None)\n",
    "\n",
    "#conditions for the probabilities\n",
    "q = [q1,q2,q3]\n",
    "\n",
    "#value variable\n",
    "v = LpVariable(\"v\",0,None)\n",
    "\n",
    "#initiate minimize\n",
    "prob = LpProblem(\"minimizer\", LpMinimize)\n",
    "\n",
    "#insert contraints\n",
    "prob += v\n",
    "prob += lpSum([game_a[0][m]*q[m] for m in range(j)] ) - v <= 0\n",
    "prob += lpSum([game_a[1][m]*q[m] for m in range(j)] ) - v <= 0\n",
    "prob += q1 + q2 + q3 == 1\n",
    "\n",
    "#solve\n",
    "soln = prob.solve()\n",
    "\n",
    "#output\n",
    "print(f\"the value of the game: {value(v)}\")\n",
    "print(f\"q_1 = {value(q1)}\")\n",
    "print(f\"q_2 = {value(q2)}\")\n",
    "print(f\"q_3 = {value(q3)}\")\n"
   ]
  },
  {
   "cell_type": "markdown",
   "metadata": {},
   "source": [
    "maximizer (linear program $\\alpha$)"
   ]
  },
  {
   "cell_type": "code",
   "execution_count": 22,
   "metadata": {},
   "outputs": [
    {
     "name": "stdout",
     "output_type": "stream",
     "text": [
      "the value of the game: 0.28571429\n",
      "p_1 = 0.57142857\n",
      "p_2 = 0.42857143\n"
     ]
    }
   ],
   "source": [
    "# initiate game for maximize\n",
    "game_a = [\n",
    "    [3,-1,2],\n",
    "    [1,2,-2]]\n",
    "\n",
    "#size\n",
    "(i,j) = np.shape(game_a)\n",
    "\n",
    "p1 = LpVariable(\"p1\",0,None)\n",
    "p2 = LpVariable(\"p2\",0,None)\n",
    "p = [p1,p2]\n",
    "v = LpVariable(\"v\",0,None)\n",
    "\n",
    "prob = LpProblem(\"maximizer\", LpMaximize)\n",
    "\n",
    "prob += v\n",
    "#prob += lpSum([game_a[n][m]*p[n] for n in range(i) for m in range(j)] - v) >= 0\n",
    "prob += lpSum([game_a[n][0]*p[n] for n in range(i)] - v) >= 0\n",
    "prob += lpSum([game_a[n][1]*p[n] for n in range(i)] - v) >= 0\n",
    "prob += lpSum([game_a[n][2]*p[n] for n in range(i)] - v) >= 0\n",
    "prob += p1 + p2  == 1\n",
    "\n",
    "#initiate\n",
    "soln = prob.solve()\n",
    "\n",
    "print(f\"the value of the game: {value(v)}\")\n",
    "print(f\"p_1 = {value(p1)}\")\n",
    "print(f\"p_2 = {value(p2)}\")\n"
   ]
  },
  {
   "cell_type": "code",
   "execution_count": 23,
   "metadata": {},
   "outputs": [],
   "source": [
    "# 4 b"
   ]
  },
  {
   "cell_type": "code",
   "execution_count": 24,
   "metadata": {},
   "outputs": [
    {
     "name": "stdout",
     "output_type": "stream",
     "text": [
      "the value of the game: 1.25\n",
      "q_1 = 0.0\n",
      "q_2 = 0.75\n",
      "q_3 = 0.25\n",
      "q_4 = 0.0\n"
     ]
    }
   ],
   "source": [
    "#\n",
    "game_a = [\n",
    "    [6,0,5,6],\n",
    "    [-3,3,-4,3],\n",
    "    [8,1,2,2]]\n",
    "\n",
    "(i,j) = np.shape(game_a)\n",
    "\n",
    "q1 = LpVariable(\"q1\",0,None)\n",
    "q2 = LpVariable(\"q2\",0,None)\n",
    "q3 = LpVariable(\"q3\",0,None)\n",
    "q4 = LpVariable(\"q4\",0,None)\n",
    "q = [q1,q2,q3,q4]\n",
    "\n",
    "v = LpVariable(\"v\",0,None)\n",
    "\n",
    "prob = LpProblem(\"minimizer\", LpMinimize)\n",
    "\n",
    "prob += v\n",
    "prob += lpSum([game_a[0][m]*q[m] for m in range(j)] ) - v <= 0\n",
    "prob += lpSum([game_a[1][m]*q[m] for m in range(j)] ) - v <= 0\n",
    "prob += q1 + q2 + q3 + q4 == 1\n",
    "\n",
    "soln = prob.solve()\n",
    "\n",
    "print(f\"the value of the game: {value(v)}\")\n",
    "print(f\"q_1 = {value(q1)}\")\n",
    "print(f\"q_2 = {value(q2)}\")\n",
    "print(f\"q_3 = {value(q3)}\")\n",
    "print(f\"q_4 = {value(q4)}\")\n"
   ]
  },
  {
   "cell_type": "code",
   "execution_count": 25,
   "metadata": {},
   "outputs": [
    {
     "name": "stdout",
     "output_type": "stream",
     "text": [
      "the value of the game: 1.25\n",
      "p_1 = 0.0\n",
      "p_2 = 0.125\n",
      "p_3 = 0.875\n"
     ]
    }
   ],
   "source": [
    "#\n",
    "game_a = [\n",
    "    [6,0,5,6],\n",
    "    [-3,3,-4,3],\n",
    "    [8,1,2,2]]\n",
    "\n",
    "(i,j) = np.shape(game_a)\n",
    "\n",
    "p1 = LpVariable(\"p1\",0,None)\n",
    "p2 = LpVariable(\"p2\",0,None)\n",
    "p3 = LpVariable(\"p3\",0,None)\n",
    "p = [p1,p2,p3]\n",
    "v = LpVariable(\"v\",0,None)\n",
    "\n",
    "prob = LpProblem(\"maximizer\", LpMaximize)\n",
    "\n",
    "prob += v\n",
    "#prob += lpSum([game_a[n][m]*p[n] for n in range(i) for m in range(j)] - v) >= 0\n",
    "prob += lpSum([game_a[n][0]*p[n] for n in range(i)] - v) >= 0\n",
    "prob += lpSum([game_a[n][1]*p[n] for n in range(i)] - v) >= 0\n",
    "prob += lpSum([game_a[n][2]*p[n] for n in range(i)] - v) >= 0\n",
    "prob += p1 + p2 + p3 == 1\n",
    "\n",
    "soln = prob.solve()\n",
    "\n",
    "print(f\"the value of the game: {value(v)}\")\n",
    "print(f\"p_1 = {value(p1)}\")\n",
    "print(f\"p_2 = {value(p2)}\")\n",
    "print(f\"p_3 = {value(p3)}\")\n"
   ]
  },
  {
   "cell_type": "code",
   "execution_count": null,
   "metadata": {},
   "outputs": [],
   "source": []
  }
 ],
 "metadata": {
  "kernelspec": {
   "display_name": "Python 3 (ipykernel)",
   "language": "python",
   "name": "python3"
  },
  "language_info": {
   "codemirror_mode": {
    "name": "ipython",
    "version": 3
   },
   "file_extension": ".py",
   "mimetype": "text/x-python",
   "name": "python",
   "nbconvert_exporter": "python",
   "pygments_lexer": "ipython3",
   "version": "3.9.7"
  },
  "vscode": {
   "interpreter": {
    "hash": "90bc28c06d5ee0b632b0e29c16a92f206537524e479b3f503685bfa9c7e5e74d"
   }
  }
 },
 "nbformat": 4,
 "nbformat_minor": 2
}
